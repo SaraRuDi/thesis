{
 "cells": [
  {
   "cell_type": "code",
   "execution_count": 9,
   "metadata": {},
   "outputs": [],
   "source": [
    "import matplotlib.pyplot as plt\n",
    "import pandas as pd"
   ]
  },
  {
   "cell_type": "markdown",
   "metadata": {},
   "source": [
    "# Data installation and exploration"
   ]
  },
  {
   "cell_type": "code",
   "execution_count": 2,
   "metadata": {},
   "outputs": [],
   "source": [
    "# Import library for dataset\n",
    "from ucimlrepo import fetch_ucirepo  \n",
    "\n",
    "# Download dataset from UCI ML repository\n",
    "cdc_diabetes_health_indicators = fetch_ucirepo(id=891)\n",
    "\n",
    "# Asign data to pandas dataframes \n",
    "X = cdc_diabetes_health_indicators.data.features\n",
    "y = cdc_diabetes_health_indicators.data.targets"
   ]
  },
  {
   "cell_type": "markdown",
   "metadata": {},
   "source": [
    "Firstly, we should comprehend the datasets structure: "
   ]
  },
  {
   "cell_type": "code",
   "execution_count": 3,
   "metadata": {},
   "outputs": [
    {
     "name": "stdout",
     "output_type": "stream",
     "text": [
      "(253680, 21)\n"
     ]
    }
   ],
   "source": [
    "print(X.shape) #Number of rows and columns\n"
   ]
  },
  {
   "cell_type": "code",
   "execution_count": 5,
   "metadata": {},
   "outputs": [
    {
     "name": "stdout",
     "output_type": "stream",
     "text": [
      "   HighBP  HighChol  CholCheck  BMI  Smoker  Stroke  HeartDiseaseorAttack  \\\n",
      "0       1         1          1   40       1       0                     0   \n",
      "\n",
      "   PhysActivity  Fruits  Veggies  ...  AnyHealthcare  NoDocbcCost  GenHlth  \\\n",
      "0             0       0        1  ...              1            0        5   \n",
      "\n",
      "   MentHlth  PhysHlth  DiffWalk  Sex  Age  Education  Income  \n",
      "0        18        15         1    0    9          4       3  \n",
      "\n",
      "[1 rows x 21 columns]\n",
      "        HighBP  HighChol  CholCheck  BMI  Smoker  Stroke  \\\n",
      "253679       1         1          1   25       0       0   \n",
      "\n",
      "        HeartDiseaseorAttack  PhysActivity  Fruits  Veggies  ...  \\\n",
      "253679                     1             1       1        0  ...   \n",
      "\n",
      "        AnyHealthcare  NoDocbcCost  GenHlth  MentHlth  PhysHlth  DiffWalk  \\\n",
      "253679              1            0        2         0         0         0   \n",
      "\n",
      "        Sex  Age  Education  Income  \n",
      "253679    0    9          6       2  \n",
      "\n",
      "[1 rows x 21 columns]\n"
     ]
    }
   ],
   "source": [
    "print(X.head(1)) #first and last entries\n",
    "print(X.tail(1))"
   ]
  },
  {
   "cell_type": "code",
   "execution_count": 6,
   "metadata": {},
   "outputs": [
    {
     "name": "stdout",
     "output_type": "stream",
     "text": [
      "<class 'pandas.core.frame.DataFrame'>\n",
      "RangeIndex: 253680 entries, 0 to 253679\n",
      "Data columns (total 21 columns):\n",
      " #   Column                Non-Null Count   Dtype\n",
      "---  ------                --------------   -----\n",
      " 0   HighBP                253680 non-null  int64\n",
      " 1   HighChol              253680 non-null  int64\n",
      " 2   CholCheck             253680 non-null  int64\n",
      " 3   BMI                   253680 non-null  int64\n",
      " 4   Smoker                253680 non-null  int64\n",
      " 5   Stroke                253680 non-null  int64\n",
      " 6   HeartDiseaseorAttack  253680 non-null  int64\n",
      " 7   PhysActivity          253680 non-null  int64\n",
      " 8   Fruits                253680 non-null  int64\n",
      " 9   Veggies               253680 non-null  int64\n",
      " 10  HvyAlcoholConsump     253680 non-null  int64\n",
      " 11  AnyHealthcare         253680 non-null  int64\n",
      " 12  NoDocbcCost           253680 non-null  int64\n",
      " 13  GenHlth               253680 non-null  int64\n",
      " 14  MentHlth              253680 non-null  int64\n",
      " 15  PhysHlth              253680 non-null  int64\n",
      " 16  DiffWalk              253680 non-null  int64\n",
      " 17  Sex                   253680 non-null  int64\n",
      " 18  Age                   253680 non-null  int64\n",
      " 19  Education             253680 non-null  int64\n",
      " 20  Income                253680 non-null  int64\n",
      "dtypes: int64(21)\n",
      "memory usage: 40.6 MB\n",
      "None\n"
     ]
    }
   ],
   "source": [
    "print(X.info()) # columns characteristics and null values"
   ]
  },
  {
   "cell_type": "markdown",
   "metadata": {},
   "source": [
    "All variables are int64 type and have no null entries.\n",
    "Now we are checking the different valueas that each variable can have to identify the categorical variables. "
   ]
  },
  {
   "cell_type": "code",
   "execution_count": 10,
   "metadata": {},
   "outputs": [
    {
     "name": "stdout",
     "output_type": "stream",
     "text": [
      "Columna: HighBP\n",
      "[1 0]\n",
      "----------------------------------------\n",
      "Columna: HighChol\n",
      "[1 0]\n",
      "----------------------------------------\n",
      "Columna: CholCheck\n",
      "[1 0]\n",
      "----------------------------------------\n",
      "Columna: BMI\n",
      "[40 25 28 27 24 30 34 26 33 21 23 22 38 32 37 31 29 20 35 45 39 19 47 18\n",
      " 36 43 55 49 42 17 16 41 44 50 59 48 52 46 54 57 53 14 15 51 58 63 61 56\n",
      " 74 62 64 66 73 85 60 67 65 70 82 79 92 68 72 88 96 13 81 71 75 12 77 69\n",
      " 76 87 89 84 95 98 91 86 83 80 90 78]\n",
      "----------------------------------------\n",
      "Columna: Smoker\n",
      "[1 0]\n",
      "----------------------------------------\n",
      "Columna: Stroke\n",
      "[0 1]\n",
      "----------------------------------------\n",
      "Columna: HeartDiseaseorAttack\n",
      "[0 1]\n",
      "----------------------------------------\n",
      "Columna: PhysActivity\n",
      "[0 1]\n",
      "----------------------------------------\n",
      "Columna: Fruits\n",
      "[0 1]\n",
      "----------------------------------------\n",
      "Columna: Veggies\n",
      "[1 0]\n",
      "----------------------------------------\n",
      "Columna: HvyAlcoholConsump\n",
      "[0 1]\n",
      "----------------------------------------\n",
      "Columna: AnyHealthcare\n",
      "[1 0]\n",
      "----------------------------------------\n",
      "Columna: NoDocbcCost\n",
      "[0 1]\n",
      "----------------------------------------\n",
      "Columna: GenHlth\n",
      "[5 3 2 4 1]\n",
      "----------------------------------------\n",
      "Columna: MentHlth\n",
      "[18  0 30  3  5 15 10  6 20  2 25  1  4  7  8 21 14 26 29 16 28 11 12 24\n",
      " 17 13 27 19 22  9 23]\n",
      "----------------------------------------\n",
      "Columna: PhysHlth\n",
      "[15  0 30  2 14 28  7 20  3 10  1  5 17  4 19  6 12 25 27 21 22  8 29 24\n",
      "  9 16 18 23 13 26 11]\n",
      "----------------------------------------\n",
      "Columna: DiffWalk\n",
      "[1 0]\n",
      "----------------------------------------\n",
      "Columna: Sex\n",
      "[0 1]\n",
      "----------------------------------------\n",
      "Columna: Age\n",
      "[ 9  7 11 10  8 13  4  6  2 12  5  1  3]\n",
      "----------------------------------------\n",
      "Columna: Education\n",
      "[4 6 3 5 2 1]\n",
      "----------------------------------------\n",
      "Columna: Income\n",
      "[3 1 8 6 4 7 2 5]\n",
      "----------------------------------------\n"
     ]
    }
   ],
   "source": [
    "for column in X.columns:\n",
    "    print(f\"Columna: {column}\")\n",
    "    print(X[column].unique())\n",
    "    print(\"-\" * 40)"
   ]
  },
  {
   "cell_type": "markdown",
   "metadata": {},
   "source": [
    "Only BMI, GenHlth, MentHlth, PhysHlth, Age, Education and Income are non-binary values. \n",
    "All variables except BMI are categorical and should be treated like that. "
   ]
  }
 ],
 "metadata": {
  "kernelspec": {
   "display_name": "Python 3",
   "language": "python",
   "name": "python3"
  },
  "language_info": {
   "codemirror_mode": {
    "name": "ipython",
    "version": 3
   },
   "file_extension": ".py",
   "mimetype": "text/x-python",
   "name": "python",
   "nbconvert_exporter": "python",
   "pygments_lexer": "ipython3",
   "version": "3.13.0"
  }
 },
 "nbformat": 4,
 "nbformat_minor": 2
}
